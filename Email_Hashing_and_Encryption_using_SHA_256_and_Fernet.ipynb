{
  "nbformat": 4,
  "nbformat_minor": 0,
  "metadata": {
    "colab": {
      "provenance": [],
      "authorship_tag": "ABX9TyNnfAUkqkxgm7TqgjzbUOIA",
      "include_colab_link": true
    },
    "kernelspec": {
      "name": "python3",
      "display_name": "Python 3"
    },
    "language_info": {
      "name": "python"
    }
  },
  "cells": [
    {
      "cell_type": "markdown",
      "metadata": {
        "id": "view-in-github",
        "colab_type": "text"
      },
      "source": [
        "<a href=\"https://colab.research.google.com/github/aichaoukdour/Hashing_SHA-256-FERNET_Encryption/blob/main/Email_Hashing_and_Encryption_using_SHA_256_and_Fernet.ipynb\" target=\"_parent\"><img src=\"https://colab.research.google.com/assets/colab-badge.svg\" alt=\"Open In Colab\"/></a>"
      ]
    },
    {
      "cell_type": "markdown",
      "source": [],
      "metadata": {
        "id": "yIN8BElyyYOp"
      }
    },
    {
      "cell_type": "markdown",
      "source": [
        "#**Email Hashing and Encryption using SHA-256 and Fernet**"
      ],
      "metadata": {
        "id": "flGxzQiCuwUZ"
      }
    },
    {
      "cell_type": "markdown",
      "source": [
        "##Define the Email Hashing Function\n",
        "This cell defines the function hash_email, which takes an email address as input and returns the SHA-256 hash of the email. This hash is used to securely store the email address.\n",
        "\n"
      ],
      "metadata": {
        "id": "WlzOrcfCu6sT"
      }
    },
    {
      "cell_type": "code",
      "execution_count": null,
      "metadata": {
        "colab": {
          "base_uri": "https://localhost:8080/",
          "height": 36
        },
        "id": "RxJ6ARuzUn3W",
        "outputId": "42d42f47-d3ab-494f-bb31-96e3a7c2696f"
      },
      "outputs": [
        {
          "output_type": "execute_result",
          "data": {
            "text/plain": [
              "'31c5543c1734d25c7206f5fd591525d0295bec6fe84ff82f946a34fe970a1e66'"
            ],
            "application/vnd.google.colaboratory.intrinsic+json": {
              "type": "string"
            }
          },
          "metadata": {},
          "execution_count": 2
        }
      ],
      "source": [
        "import hashlib\n",
        "\n",
        "# Fonction pour calculer le hash de l'adresse e-mail\n",
        "def hash_email(email: str) -> str:\n",
        "    # Utilisation de SHA256 pour le hachage\n",
        "    return hashlib.sha256(email.encode()).hexdigest()\n",
        "\n",
        "# Exemple d'adresse email\n",
        "email_example = \"example@example.com\"\n",
        "hashed_email = hash_email(email_example)\n",
        "\n",
        "hashed_email"
      ]
    },
    {
      "cell_type": "code",
      "source": [
        "from cryptography.fernet import Fernet\n",
        "import hashlib\n",
        "\n",
        "# Clé Fernet utilisée pour chiffrer et déchiffrer les emails\n",
        "FERNET_KEY = Fernet.generate_key()\n",
        "cipher = Fernet(FERNET_KEY)\n",
        "\n",
        "# Données de l'email\n",
        "email_sender = \"AICHA oukdour\"\n",
        "email_receiver = \"aichaoukdour02@gmail.com\"\n",
        "email_subject = \"Test Email\"\n",
        "email_body = \"\"\"Bonjour les amis,\n",
        "Le régulateur nous a officiellement exigé lors de la réunion tripartite hier de lui transmettre la liste des ND du tout le parc dégroupé ADSL actif du WANA arrêté le 17/02 (y compris la date d’activation) AICHA oukdour\"\"\"\n",
        "\n",
        "# Hash du destinataire pour stockage sécurisé\n",
        "receiver_hash = hashlib.sha256(email_receiver.encode()).hexdigest()\n",
        "\n",
        "# Chiffrement des données\n",
        "encrypted_sender = cipher.encrypt(email_sender.encode()).decode()\n",
        "encrypted_subject = cipher.encrypt(email_subject.encode()).decode()\n",
        "encrypted_body = cipher.encrypt(email_body.encode()).decode()\n",
        "\n",
        "# Simulation de récupération après authentification\n",
        "user_input_email = \"aichaoukdour02@gmail.com\"\n",
        "user_email_hash = hashlib.sha256(user_input_email.encode()).hexdigest()\n",
        "\n",
        "# Vérification et déchiffrement\n",
        "if user_email_hash == receiver_hash:\n",
        "    decrypted_sender = cipher.decrypt(encrypted_sender.encode()).decode()\n",
        "    decrypted_subject = cipher.decrypt(encrypted_subject.encode()).decode()\n",
        "    decrypted_body = cipher.decrypt(encrypted_body.encode()).decode()\n",
        "\n",
        "    print(f\"Expéditeur: {decrypted_sender}\")\n",
        "    print(f\"Sujet: {decrypted_subject}\")\n",
        "    print(f\"Message: {decrypted_body}\")\n",
        "else:\n",
        "    print(\"Accès refusé !\")\n",
        "\n"
      ],
      "metadata": {
        "id": "_1VudJ1xsjPz",
        "outputId": "abf0c452-f758-4693-d1c7-b737cd0ed242",
        "colab": {
          "base_uri": "https://localhost:8080/"
        }
      },
      "execution_count": null,
      "outputs": [
        {
          "output_type": "stream",
          "name": "stdout",
          "text": [
            "Expéditeur: AICHA oukdour\n",
            "Sujet: Test Email\n",
            "Message: Bonjour les amis,\n",
            "Le régulateur nous a officiellement exigé lors de la réunion tripartite hier de lui transmettre la liste des ND du tout le parc dégroupé ADSL actif du WANA arrêté le 17/02 (y compris la date d’activation) AICHA oukdour\n"
          ]
        }
      ]
    },
    {
      "cell_type": "code",
      "source": [],
      "metadata": {
        "id": "0_Qb05Zqtbtx"
      },
      "execution_count": null,
      "outputs": []
    },
    {
      "cell_type": "code",
      "source": [
        "from cryptography.fernet import Fernet\n",
        "import hashlib\n",
        "\n",
        "# Clé Fernet utilisée pour chiffrer et déchiffrer les emails\n",
        "FERNET_KEY = Fernet.generate_key()\n",
        "cipher = Fernet(FERNET_KEY)\n",
        "\n",
        "# Données de l'email\n",
        "email_sender = \"AICHA oukdour\"\n",
        "email_receiver = \"aichaoukdour04@gmail.com\"\n",
        "email_subject = \"Test Email\"\n",
        "email_body = \"\"\"Bonjour les amis,\n",
        "Le régulateur nous a officiellement exigé lors de la réunion tripartite hier de lui transmettre la liste des ND du tout le parc dégroupé ADSL actif du WANA arrêté le 17/02 (y compris la date d’activation) AICHA oukdour\"\"\"\n",
        "\n",
        "# Hash du destinataire pour stockage sécurisé\n",
        "receiver_hash = hashlib.sha256(email_receiver.encode()).hexdigest()\n",
        "\n",
        "# Chiffrement des données\n",
        "encrypted_sender = cipher.encrypt(email_sender.encode()).decode()\n",
        "encrypted_subject = cipher.encrypt(email_subject.encode()).decode()\n",
        "encrypted_body = cipher.encrypt(email_body.encode()).decode()\n",
        "\n",
        "# Simulation de récupération après authentification\n",
        "user_input_email = \"aichaoukdour02@gmail.com\"\n",
        "user_email_hash = hashlib.sha256(user_input_email.encode()).hexdigest()\n",
        "\n",
        "# Vérification et déchiffrement\n",
        "if user_email_hash == receiver_hash:\n",
        "    decrypted_sender = cipher.decrypt(encrypted_sender.encode()).decode()\n",
        "    decrypted_subject = cipher.decrypt(encrypted_subject.encode()).decode()\n",
        "    decrypted_body = cipher.decrypt(encrypted_body.encode()).decode()\n",
        "\n",
        "    print(f\"Expéditeur: {decrypted_sender}\")\n",
        "    print(f\"Sujet: {decrypted_subject}\")\n",
        "    print(f\"Message: {decrypted_body}\")\n",
        "else:\n",
        "    print(\"Accès refusé !\")\n",
        "\n"
      ],
      "metadata": {
        "outputId": "b86271b3-a2d3-42b8-80d6-625c35bfb955",
        "colab": {
          "base_uri": "https://localhost:8080/"
        },
        "id": "qumSGgjitcTa"
      },
      "execution_count": null,
      "outputs": [
        {
          "output_type": "stream",
          "name": "stdout",
          "text": [
            "Accès refusé !\n"
          ]
        }
      ]
    },
    {
      "cell_type": "markdown",
      "source": [],
      "metadata": {
        "id": "Oss328AayWZs"
      }
    }
  ]
}