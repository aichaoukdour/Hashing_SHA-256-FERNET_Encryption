{
  "nbformat": 4,
  "nbformat_minor": 0,
  "metadata": {
    "colab": {
      "provenance": [],
      "gpuType": "T4",
      "include_colab_link": true
    },
    "kernelspec": {
      "name": "python3",
      "display_name": "Python 3"
    },
    "language_info": {
      "name": "python"
    },
    "accelerator": "GPU"
  },
  "cells": [
    {
      "cell_type": "markdown",
      "metadata": {
        "id": "view-in-github",
        "colab_type": "text"
      },
      "source": [
        "<a href=\"https://colab.research.google.com/github/aichaoukdour/Hashing_SHA-256-FERNET_Encryption/blob/main/Document_Extraction_with_LLMs.ipynb\" target=\"_parent\"><img src=\"https://colab.research.google.com/assets/colab-badge.svg\" alt=\"Open In Colab\"/></a>"
      ]
    },
    {
      "cell_type": "code",
      "execution_count": null,
      "metadata": {
        "id": "r6Wb2QJbUegf",
        "outputId": "cdadd621-c9a6-4cf2-a3dc-702fd244fced",
        "colab": {
          "base_uri": "https://localhost:8080/"
        }
      },
      "outputs": [
        {
          "output_type": "stream",
          "name": "stdout",
          "text": [
            "Collecting doctran\n",
            "  Downloading doctran-0.0.14-py3-none-any.whl.metadata (8.6 kB)\n",
            "Requirement already satisfied: langchain in /usr/local/lib/python3.11/dist-packages (0.3.22)\n",
            "Collecting lxml<5.0.0,>=4.9.2 (from doctran)\n",
            "  Downloading lxml-4.9.4-cp311-cp311-manylinux_2_28_x86_64.whl.metadata (3.7 kB)\n",
            "Collecting openai<0.28.0,>=0.27.8 (from doctran)\n",
            "  Downloading openai-0.27.10-py3-none-any.whl.metadata (13 kB)\n",
            "Collecting presidio-analyzer<3.0.0,>=2.2.33 (from doctran)\n",
            "  Downloading presidio_analyzer-2.2.358-py3-none-any.whl.metadata (3.2 kB)\n",
            "Collecting presidio-anonymizer<3.0.0,>=2.2.33 (from doctran)\n",
            "  Downloading presidio_anonymizer-2.2.358-py3-none-any.whl.metadata (8.1 kB)\n",
            "Collecting pydantic<2.0.0,>=1.10.9 (from doctran)\n",
            "  Downloading pydantic-1.10.21-cp311-cp311-manylinux_2_17_x86_64.manylinux2014_x86_64.whl.metadata (153 kB)\n",
            "\u001b[2K     \u001b[90m━━━━━━━━━━━━━━━━━━━━━━━━━━━━━━━━━━━━━━━━\u001b[0m \u001b[32m153.9/153.9 kB\u001b[0m \u001b[31m5.4 MB/s\u001b[0m eta \u001b[36m0:00:00\u001b[0m\n",
            "\u001b[?25hRequirement already satisfied: spacy<4.0.0,>=3.5.4 in /usr/local/lib/python3.11/dist-packages (from doctran) (3.8.5)\n",
            "Collecting tiktoken<0.6.0,>=0.5.0 (from doctran)\n",
            "  Downloading tiktoken-0.5.2-cp311-cp311-manylinux_2_17_x86_64.manylinux2014_x86_64.whl.metadata (6.6 kB)\n",
            "Requirement already satisfied: langchain-core<1.0.0,>=0.3.49 in /usr/local/lib/python3.11/dist-packages (from langchain) (0.3.50)\n",
            "Requirement already satisfied: langchain-text-splitters<1.0.0,>=0.3.7 in /usr/local/lib/python3.11/dist-packages (from langchain) (0.3.7)\n",
            "Requirement already satisfied: langsmith<0.4,>=0.1.17 in /usr/local/lib/python3.11/dist-packages (from langchain) (0.3.23)\n",
            "INFO: pip is looking at multiple versions of langchain to determine which version is compatible with other requirements. This could take a while.\n",
            "Collecting langchain\n",
            "  Downloading langchain-0.3.23-py3-none-any.whl.metadata (7.8 kB)\n",
            "Collecting langchain-core<1.0.0,>=0.3.51 (from langchain)\n",
            "  Downloading langchain_core-0.3.51-py3-none-any.whl.metadata (5.9 kB)\n",
            "Collecting langchain-text-splitters<1.0.0,>=0.3.8 (from langchain)\n",
            "  Downloading langchain_text_splitters-0.3.8-py3-none-any.whl.metadata (1.9 kB)\n",
            "Collecting langchain\n",
            "  Downloading langchain-0.3.21-py3-none-any.whl.metadata (7.8 kB)\n"
          ]
        }
      ],
      "source": [
        "!pip install doctran langchain"
      ]
    },
    {
      "cell_type": "code",
      "source": [
        "import json\n",
        "from langchain.schema import Document\n",
        "from langchain.document_transformers import DoctranPropertyExtractor\n",
        "import os"
      ],
      "metadata": {
        "id": "wulaVEKHUlbH"
      },
      "execution_count": null,
      "outputs": []
    },
    {
      "cell_type": "code",
      "source": [
        "os.environ[\"OPENAI_API_KEY\"] = \"\""
      ],
      "metadata": {
        "id": "RQ9ZIYzrUoBu"
      },
      "execution_count": null,
      "outputs": []
    },
    {
      "cell_type": "code",
      "source": [
        "sample_text = \"\"\"[Generated with ChatGPT]\n",
        "\n",
        "Confidential Document - For Internal Use Only\n",
        "\n",
        "Date: July 1, 2023\n",
        "\n",
        "Subject: Updates and Discussions on Various Topics\n",
        "\n",
        "Dear Team,\n",
        "\n",
        "I hope this email finds you well. In this document, I would like to provide you with some important updates and discuss various topics that require our attention. Please treat the information contained herein as highly confidential.\n",
        "\n",
        "Security and Privacy Measures\n",
        "As part of our ongoing commitment to ensure the security and privacy of our customers' data, we have implemented robust measures across all our systems. We would like to commend John Doe (email: john.doe@example.com) from the IT department for his diligent work in enhancing our network security. Moving forward, we kindly remind everyone to strictly adhere to our data protection policies and guidelines. Additionally, if you come across any potential security risks or incidents, please report them immediately to our dedicated team at security@example.com.\n",
        "\n",
        "HR Updates and Employee Benefits\n",
        "Recently, we welcomed several new team members who have made significant contributions to their respective departments. I would like to recognize Jane Smith (SSN: 049-45-5928) for her outstanding performance in customer service. Jane has consistently received positive feedback from our clients. Furthermore, please remember that the open enrollment period for our employee benefits program is fast approaching. Should you have any questions or require assistance, please contact our HR representative, Michael Johnson (phone: 418-492-3850, email: michael.johnson@example.com).\n",
        "\n",
        "Marketing Initiatives and Campaigns\n",
        "Our marketing team has been actively working on developing new strategies to increase brand awareness and drive customer engagement. We would like to thank Sarah Thompson (phone: 415-555-1234) for her exceptional efforts in managing our social media platforms. Sarah has successfully increased our follower base by 20% in the past month alone. Moreover, please mark your calendars for the upcoming product launch event on July 15th. We encourage all team members to attend and support this exciting milestone for our company.\n",
        "\n",
        "Research and Development Projects\n",
        "In our pursuit of innovation, our research and development department has been working tirelessly on various projects. I would like to acknowledge the exceptional work of David Rodriguez (email: david.rodriguez@example.com) in his role as project lead. David's contributions to the development of our cutting-edge technology have been instrumental. Furthermore, we would like to remind everyone to share their ideas and suggestions for potential new projects during our monthly R&D brainstorming session, scheduled for July 10th.\n",
        "\n",
        "Please treat the information in this document with utmost confidentiality and ensure that it is not shared with unauthorized individuals. If you have any questions or concerns regarding the topics discussed, please do not hesitate to reach out to me directly.\n",
        "\n",
        "Thank you for your attention, and let's continue to work together to achieve our goals.\n",
        "\n",
        "Best regards,\n",
        "\n",
        "Jason Fan\n",
        "Cofounder & CEO\n",
        "Psychic\n",
        "jason@psychic.dev\n",
        "\"\"\""
      ],
      "metadata": {
        "id": "cM8Ch5ssU9G-"
      },
      "execution_count": null,
      "outputs": []
    },
    {
      "cell_type": "code",
      "source": [
        "documents = [Document(page_content=sample_text)]\n",
        "properties = [\n",
        "    {\n",
        "        \"name\": \"category\",\n",
        "        \"description\": \"What type of email this is.\",\n",
        "        \"type\": \"string\",\n",
        "        \"enum\": [\"update\", \"action_item\", \"customer_feedback\", \"announcement\", \"other\"],\n",
        "        \"required\": True,\n",
        "    },\n",
        "    {\n",
        "        \"name\": \"mentions\",\n",
        "        \"description\": \"A list of all people mentioned in this email.\",\n",
        "        \"type\": \"array\",\n",
        "        \"items\": {\n",
        "            \"name\": \"full_name\",\n",
        "            \"description\": \"The full name of the person mentioned.\",\n",
        "            \"type\": \"string\",\n",
        "        },\n",
        "        \"required\": True,\n",
        "    },\n",
        "    {\n",
        "        \"name\": \"eli5\",\n",
        "        \"description\": \"Explain this email to me like I'm 5 years old.\",\n",
        "        \"type\": \"string\",\n",
        "        \"required\": True,\n",
        "    },\n",
        "]\n",
        "property_extractor = DoctranPropertyExtractor(properties=properties, openai_api_model=\"gpt-3.5-turbo-0613\")"
      ],
      "metadata": {
        "id": "EvfKuhKYVDtd"
      },
      "execution_count": null,
      "outputs": []
    },
    {
      "cell_type": "code",
      "source": [
        "extracted_document = await property_extractor.atransform_documents(\n",
        "    documents, properties=properties\n",
        ")"
      ],
      "metadata": {
        "id": "mAjlWkCwVPTe"
      },
      "execution_count": null,
      "outputs": []
    },
    {
      "cell_type": "code",
      "source": [
        "print(json.dumps(extracted_document[0].metadata, indent=2))"
      ],
      "metadata": {
        "colab": {
          "base_uri": "https://localhost:8080/"
        },
        "id": "jE37dxuhVhHn",
        "outputId": "ad7366c6-444b-4643-b1ff-03004b815ee0"
      },
      "execution_count": null,
      "outputs": [
        {
          "output_type": "stream",
          "name": "stdout",
          "text": [
            "{\n",
            "  \"extracted_properties\": {\n",
            "    \"category\": \"update\",\n",
            "    \"mentions\": [\n",
            "      \"John Doe\",\n",
            "      \"Jane Smith\",\n",
            "      \"Michael Johnson\",\n",
            "      \"Sarah Thompson\",\n",
            "      \"David Rodriguez\"\n",
            "    ],\n",
            "    \"eli5\": \"This email provides updates on security and privacy measures, HR updates and employee benefits, marketing initiatives and campaigns, and research and development projects. It also recognizes individuals who have made significant contributions in their respective areas.\"\n",
            "  }\n",
            "}\n"
          ]
        }
      ]
    },
    {
      "cell_type": "code",
      "source": [
        "import langchain\n",
        "print(langchain.__version__)"
      ],
      "metadata": {
        "colab": {
          "base_uri": "https://localhost:8080/"
        },
        "id": "71a_1KbXWccI",
        "outputId": "bbfac9cb-94d1-4c26-cc81-24c169fd70c1"
      },
      "execution_count": null,
      "outputs": [
        {
          "output_type": "stream",
          "name": "stdout",
          "text": [
            "0.0.273\n"
          ]
        }
      ]
    }
  ]
}